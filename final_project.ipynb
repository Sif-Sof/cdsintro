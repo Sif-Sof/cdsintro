{
 "cells": [
  {
   "cell_type": "markdown",
   "id": "7afbc7af-1d9b-4322-84d0-3ebb12854040",
   "metadata": {
    "jp-MarkdownHeadingCollapsed": true
   },
   "source": [
    "# Installing Packages #"
   ]
  },
  {
   "cell_type": "code",
   "execution_count": 1,
   "id": "17a6cc05-b370-4c5e-9791-737cfc6e52f3",
   "metadata": {
    "jupyter": {
     "source_hidden": true
    }
   },
   "outputs": [
    {
     "name": "stderr",
     "output_type": "stream",
     "text": [
      "Installing package into ‘/usr/local/spark-3.5.3-bin-hadoop3/R/lib’\n",
      "(as ‘lib’ is unspecified)\n",
      "\n",
      "Installing package into ‘/usr/local/spark-3.5.3-bin-hadoop3/R/lib’\n",
      "(as ‘lib’ is unspecified)\n",
      "\n",
      "Installing package into ‘/usr/local/spark-3.5.3-bin-hadoop3/R/lib’\n",
      "(as ‘lib’ is unspecified)\n",
      "\n",
      "Installing package into ‘/usr/local/spark-3.5.3-bin-hadoop3/R/lib’\n",
      "(as ‘lib’ is unspecified)\n",
      "\n"
     ]
    }
   ],
   "source": [
    "install.packages('dplyr')\n",
    "install.packages('ggplot2')\n",
    "install.packages('dslabs')\n",
    "install.packages('tidyr')"
   ]
  },
  {
   "cell_type": "code",
   "execution_count": 2,
   "id": "50f91a16-102f-43f5-89a9-f7d3356b85f5",
   "metadata": {},
   "outputs": [
    {
     "name": "stderr",
     "output_type": "stream",
     "text": [
      "\n",
      "Attaching package: ‘dplyr’\n",
      "\n",
      "\n",
      "The following objects are masked from ‘package:stats’:\n",
      "\n",
      "    filter, lag\n",
      "\n",
      "\n",
      "The following objects are masked from ‘package:base’:\n",
      "\n",
      "    intersect, setdiff, setequal, union\n",
      "\n",
      "\n"
     ]
    }
   ],
   "source": [
    "library(dplyr)\n",
    "library(ggplot2)\n",
    "library(dslabs)\n",
    "library(tidyr)"
   ]
  },
  {
   "cell_type": "markdown",
   "id": "64d09c85-ae10-4db3-a75e-aafdffcdb672",
   "metadata": {},
   "source": [
    "# Data #"
   ]
  },
  {
   "cell_type": "markdown",
   "id": "d46b4b6e-a47f-4870-8210-fc8bb5eac272",
   "metadata": {
    "jp-MarkdownHeadingCollapsed": true
   },
   "source": [
    "## Loading data into R ##"
   ]
  },
  {
   "cell_type": "code",
   "execution_count": 105,
   "id": "6757f0f5-d790-4a40-8013-038f593fa2b0",
   "metadata": {},
   "outputs": [
    {
     "name": "stdout",
     "output_type": "stream",
     "text": [
      "'data.frame':\t6 obs. of  11 variables:\n",
      " $ år   : int  1898 1901 1903 1906 1909 1910\n",
      " $ fv   : chr  \"23\" \"16\" \"12\" \"9\" ...\n",
      " $ h    : int  16 8 12 12 21 13\n",
      " $ vr   : chr  \"63\" \"76\" \"73\" \"56\" ...\n",
      " $ s    : int  12 14 16 24 24 24\n",
      " $ vr.c : chr  \"na\" \"na\" \"na\" \"na\" ...\n",
      " $ vr.n : chr  \"na\" \"na\" \"na\" \"na\" ...\n",
      " $ v    : chr  \"na\" \"na\" \"na\" \"na\" ...\n",
      " $ r    : chr  \"na\" \"na\" \"na\" \"9\" ...\n",
      " $ l    : int  0 0 1 4 6 0\n",
      " $ i.alt: int  114 114 114 114 114 114\n"
     ]
    },
    {
     "data": {
      "text/html": [
       "<table class=\"dataframe\">\n",
       "<caption>A data.frame: 6 × 11</caption>\n",
       "<thead>\n",
       "\t<tr><th scope=col>år</th><th scope=col>fv</th><th scope=col>h</th><th scope=col>vr</th><th scope=col>s</th><th scope=col>vr.c</th><th scope=col>vr.n</th><th scope=col>v</th><th scope=col>r</th><th scope=col>l</th><th scope=col>i.alt</th></tr>\n",
       "\t<tr><th scope=col>&lt;int&gt;</th><th scope=col>&lt;chr&gt;</th><th scope=col>&lt;int&gt;</th><th scope=col>&lt;chr&gt;</th><th scope=col>&lt;int&gt;</th><th scope=col>&lt;chr&gt;</th><th scope=col>&lt;chr&gt;</th><th scope=col>&lt;chr&gt;</th><th scope=col>&lt;chr&gt;</th><th scope=col>&lt;int&gt;</th><th scope=col>&lt;int&gt;</th></tr>\n",
       "</thead>\n",
       "<tbody>\n",
       "\t<tr><td>1898</td><td>23</td><td>16</td><td>63</td><td>12</td><td>na</td><td>na</td><td>na</td><td>na</td><td>0</td><td>114</td></tr>\n",
       "\t<tr><td>1901</td><td>16</td><td> 8</td><td>76</td><td>14</td><td>na</td><td>na</td><td>na</td><td>na</td><td>0</td><td>114</td></tr>\n",
       "\t<tr><td>1903</td><td>12</td><td>12</td><td>73</td><td>16</td><td>na</td><td>na</td><td>na</td><td>na</td><td>1</td><td>114</td></tr>\n",
       "\t<tr><td>1906</td><td>9 </td><td>12</td><td>56</td><td>24</td><td>na</td><td>na</td><td>na</td><td>9 </td><td>4</td><td>114</td></tr>\n",
       "\t<tr><td>1909</td><td>11</td><td>21</td><td>2 </td><td>24</td><td>27</td><td>8 </td><td>na</td><td>15</td><td>6</td><td>114</td></tr>\n",
       "\t<tr><td>1910</td><td>na</td><td>13</td><td>na</td><td>24</td><td>na</td><td>na</td><td>57</td><td>20</td><td>0</td><td>114</td></tr>\n",
       "</tbody>\n",
       "</table>\n"
      ],
      "text/latex": [
       "A data.frame: 6 × 11\n",
       "\\begin{tabular}{lllllllllll}\n",
       " år & fv & h & vr & s & vr.c & vr.n & v & r & l & i.alt\\\\\n",
       " <int> & <chr> & <int> & <chr> & <int> & <chr> & <chr> & <chr> & <chr> & <int> & <int>\\\\\n",
       "\\hline\n",
       "\t 1898 & 23 & 16 & 63 & 12 & na & na & na & na & 0 & 114\\\\\n",
       "\t 1901 & 16 &  8 & 76 & 14 & na & na & na & na & 0 & 114\\\\\n",
       "\t 1903 & 12 & 12 & 73 & 16 & na & na & na & na & 1 & 114\\\\\n",
       "\t 1906 & 9  & 12 & 56 & 24 & na & na & na & 9  & 4 & 114\\\\\n",
       "\t 1909 & 11 & 21 & 2  & 24 & 27 & 8  & na & 15 & 6 & 114\\\\\n",
       "\t 1910 & na & 13 & na & 24 & na & na & 57 & 20 & 0 & 114\\\\\n",
       "\\end{tabular}\n"
      ],
      "text/markdown": [
       "\n",
       "A data.frame: 6 × 11\n",
       "\n",
       "| år &lt;int&gt; | fv &lt;chr&gt; | h &lt;int&gt; | vr &lt;chr&gt; | s &lt;int&gt; | vr.c &lt;chr&gt; | vr.n &lt;chr&gt; | v &lt;chr&gt; | r &lt;chr&gt; | l &lt;int&gt; | i.alt &lt;int&gt; |\n",
       "|---|---|---|---|---|---|---|---|---|---|---|\n",
       "| 1898 | 23 | 16 | 63 | 12 | na | na | na | na | 0 | 114 |\n",
       "| 1901 | 16 |  8 | 76 | 14 | na | na | na | na | 0 | 114 |\n",
       "| 1903 | 12 | 12 | 73 | 16 | na | na | na | na | 1 | 114 |\n",
       "| 1906 | 9  | 12 | 56 | 24 | na | na | na | 9  | 4 | 114 |\n",
       "| 1909 | 11 | 21 | 2  | 24 | 27 | 8  | na | 15 | 6 | 114 |\n",
       "| 1910 | na | 13 | na | 24 | na | na | 57 | 20 | 0 | 114 |\n",
       "\n"
      ],
      "text/plain": [
       "  år   fv h  vr s  vr.c vr.n v  r  l i.alt\n",
       "1 1898 23 16 63 12 na   na   na na 0 114  \n",
       "2 1901 16  8 76 14 na   na   na na 0 114  \n",
       "3 1903 12 12 73 16 na   na   na na 1 114  \n",
       "4 1906 9  12 56 24 na   na   na 9  4 114  \n",
       "5 1909 11 21 2  24 27   8    na 15 6 114  \n",
       "6 1910 na 13 na 24 na   na   57 20 0 114  "
      ]
     },
     "metadata": {},
     "output_type": "display_data"
    }
   ],
   "source": [
    "\n",
    "parliament<-read.csv2('folketingsvalg.csv')\n",
    "str(parliament)\n",
    "parliament"
   ]
  },
  {
   "cell_type": "markdown",
   "id": "07705480-fd39-456d-b56d-a7ab1dd173e0",
   "metadata": {},
   "source": [
    "A note on the shortenings \n",
    "H is the party Højre\n",
    "S is socialdemokraterne\n",
    "all of the others are ofshoots of the party Venstre "
   ]
  },
  {
   "cell_type": "code",
   "execution_count": 23,
   "id": "a9e069bc-6619-4365-b816-b91a266a7c50",
   "metadata": {},
   "outputs": [
    {
     "data": {
      "text/html": [
       "<table class=\"dataframe\">\n",
       "<caption>A data.frame: 14 × 5</caption>\n",
       "<thead>\n",
       "\t<tr><th scope=col>år</th><th scope=col>arbejdsnedlukninger</th><th scope=col>strejke</th><th scope=col>lockout</th><th scope=col>blandet.eller.ved.ikke</th></tr>\n",
       "\t<tr><th scope=col>&lt;int&gt;</th><th scope=col>&lt;int&gt;</th><th scope=col>&lt;int&gt;</th><th scope=col>&lt;int&gt;</th><th scope=col>&lt;int&gt;</th></tr>\n",
       "</thead>\n",
       "<tbody>\n",
       "\t<tr><td>1897</td><td>111</td><td> 77</td><td>11</td><td>23</td></tr>\n",
       "\t<tr><td>1898</td><td>147</td><td>136</td><td> 5</td><td> 6</td></tr>\n",
       "\t<tr><td>1899</td><td> 98</td><td> 81</td><td> 3</td><td>14</td></tr>\n",
       "\t<tr><td>1900</td><td> 82</td><td> 62</td><td> 5</td><td>15</td></tr>\n",
       "\t<tr><td>1901</td><td> 57</td><td> 40</td><td>11</td><td> 6</td></tr>\n",
       "\t<tr><td>1902</td><td> 68</td><td> 54</td><td> 6</td><td> 8</td></tr>\n",
       "\t<tr><td>1903</td><td> 61</td><td> 39</td><td> 4</td><td>18</td></tr>\n",
       "\t<tr><td>1904</td><td> 86</td><td> 69</td><td> 3</td><td>14</td></tr>\n",
       "\t<tr><td>1905</td><td> 75</td><td> 61</td><td> 3</td><td>11</td></tr>\n",
       "\t<tr><td>1906</td><td> 90</td><td> 70</td><td> 5</td><td>15</td></tr>\n",
       "\t<tr><td>1907</td><td>105</td><td> 79</td><td> 4</td><td>22</td></tr>\n",
       "\t<tr><td>1908</td><td>122</td><td> 98</td><td> 2</td><td>22</td></tr>\n",
       "\t<tr><td>1909</td><td> 65</td><td> 40</td><td> 7</td><td>18</td></tr>\n",
       "\t<tr><td>1910</td><td> 71</td><td> 61</td><td> 3</td><td> 7</td></tr>\n",
       "</tbody>\n",
       "</table>\n"
      ],
      "text/latex": [
       "A data.frame: 14 × 5\n",
       "\\begin{tabular}{lllll}\n",
       " år & arbejdsnedlukninger & strejke & lockout & blandet.eller.ved.ikke\\\\\n",
       " <int> & <int> & <int> & <int> & <int>\\\\\n",
       "\\hline\n",
       "\t 1897 & 111 &  77 & 11 & 23\\\\\n",
       "\t 1898 & 147 & 136 &  5 &  6\\\\\n",
       "\t 1899 &  98 &  81 &  3 & 14\\\\\n",
       "\t 1900 &  82 &  62 &  5 & 15\\\\\n",
       "\t 1901 &  57 &  40 & 11 &  6\\\\\n",
       "\t 1902 &  68 &  54 &  6 &  8\\\\\n",
       "\t 1903 &  61 &  39 &  4 & 18\\\\\n",
       "\t 1904 &  86 &  69 &  3 & 14\\\\\n",
       "\t 1905 &  75 &  61 &  3 & 11\\\\\n",
       "\t 1906 &  90 &  70 &  5 & 15\\\\\n",
       "\t 1907 & 105 &  79 &  4 & 22\\\\\n",
       "\t 1908 & 122 &  98 &  2 & 22\\\\\n",
       "\t 1909 &  65 &  40 &  7 & 18\\\\\n",
       "\t 1910 &  71 &  61 &  3 &  7\\\\\n",
       "\\end{tabular}\n"
      ],
      "text/markdown": [
       "\n",
       "A data.frame: 14 × 5\n",
       "\n",
       "| år &lt;int&gt; | arbejdsnedlukninger &lt;int&gt; | strejke &lt;int&gt; | lockout &lt;int&gt; | blandet.eller.ved.ikke &lt;int&gt; |\n",
       "|---|---|---|---|---|\n",
       "| 1897 | 111 |  77 | 11 | 23 |\n",
       "| 1898 | 147 | 136 |  5 |  6 |\n",
       "| 1899 |  98 |  81 |  3 | 14 |\n",
       "| 1900 |  82 |  62 |  5 | 15 |\n",
       "| 1901 |  57 |  40 | 11 |  6 |\n",
       "| 1902 |  68 |  54 |  6 |  8 |\n",
       "| 1903 |  61 |  39 |  4 | 18 |\n",
       "| 1904 |  86 |  69 |  3 | 14 |\n",
       "| 1905 |  75 |  61 |  3 | 11 |\n",
       "| 1906 |  90 |  70 |  5 | 15 |\n",
       "| 1907 | 105 |  79 |  4 | 22 |\n",
       "| 1908 | 122 |  98 |  2 | 22 |\n",
       "| 1909 |  65 |  40 |  7 | 18 |\n",
       "| 1910 |  71 |  61 |  3 |  7 |\n",
       "\n"
      ],
      "text/plain": [
       "   år   arbejdsnedlukninger strejke lockout blandet.eller.ved.ikke\n",
       "1  1897 111                  77     11      23                    \n",
       "2  1898 147                 136      5       6                    \n",
       "3  1899  98                  81      3      14                    \n",
       "4  1900  82                  62      5      15                    \n",
       "5  1901  57                  40     11       6                    \n",
       "6  1902  68                  54      6       8                    \n",
       "7  1903  61                  39      4      18                    \n",
       "8  1904  86                  69      3      14                    \n",
       "9  1905  75                  61      3      11                    \n",
       "10 1906  90                  70      5      15                    \n",
       "11 1907 105                  79      4      22                    \n",
       "12 1908 122                  98      2      22                    \n",
       "13 1909  65                  40      7      18                    \n",
       "14 1910  71                  61      3       7                    "
      ]
     },
     "metadata": {},
     "output_type": "display_data"
    },
    {
     "data": {
      "text/html": [
       "<style>\n",
       ".list-inline {list-style: none; margin:0; padding: 0}\n",
       ".list-inline>li {display: inline-block}\n",
       ".list-inline>li:not(:last-child)::after {content: \"\\00b7\"; padding: 0 .5ex}\n",
       "</style>\n",
       "<ol class=list-inline><li>'år'</li><li>'arbejdsnedlukninger'</li><li>'strejke'</li><li>'lockout'</li><li>'blandet.eller.ved.ikke'</li></ol>\n"
      ],
      "text/latex": [
       "\\begin{enumerate*}\n",
       "\\item 'år'\n",
       "\\item 'arbejdsnedlukninger'\n",
       "\\item 'strejke'\n",
       "\\item 'lockout'\n",
       "\\item 'blandet.eller.ved.ikke'\n",
       "\\end{enumerate*}\n"
      ],
      "text/markdown": [
       "1. 'år'\n",
       "2. 'arbejdsnedlukninger'\n",
       "3. 'strejke'\n",
       "4. 'lockout'\n",
       "5. 'blandet.eller.ved.ikke'\n",
       "\n",
       "\n"
      ],
      "text/plain": [
       "[1] \"år\"                     \"arbejdsnedlukninger\"    \"strejke\"               \n",
       "[4] \"lockout\"                \"blandet.eller.ved.ikke\""
      ]
     },
     "metadata": {},
     "output_type": "display_data"
    }
   ],
   "source": [
    "worker <- read.csv2('arbejdsnedlukninger.csv')\n",
    "worker\n",
    "colnames(worker)"
   ]
  },
  {
   "cell_type": "code",
   "execution_count": 43,
   "id": "57bd54b3-4d15-476c-9256-3016ddc71043",
   "metadata": {},
   "outputs": [
    {
     "data": {
      "text/html": [
       "<table class=\"dataframe\">\n",
       "<caption>A data.frame: 6 × 13</caption>\n",
       "<thead>\n",
       "\t<tr><th scope=col>år</th><th scope=col>fv</th><th scope=col>h</th><th scope=col>vr</th><th scope=col>s</th><th scope=col>vr.c</th><th scope=col>vr.n</th><th scope=col>v</th><th scope=col>r</th><th scope=col>l</th><th scope=col>i.alt</th><th scope=col>before_election</th><th scope=col>after_election</th></tr>\n",
       "\t<tr><th scope=col>&lt;int&gt;</th><th scope=col>&lt;chr&gt;</th><th scope=col>&lt;int&gt;</th><th scope=col>&lt;chr&gt;</th><th scope=col>&lt;int&gt;</th><th scope=col>&lt;chr&gt;</th><th scope=col>&lt;chr&gt;</th><th scope=col>&lt;chr&gt;</th><th scope=col>&lt;chr&gt;</th><th scope=col>&lt;int&gt;</th><th scope=col>&lt;int&gt;</th><th scope=col>&lt;dbl&gt;</th><th scope=col>&lt;dbl&gt;</th></tr>\n",
       "</thead>\n",
       "<tbody>\n",
       "\t<tr><td>1898</td><td>23</td><td>16</td><td>63</td><td>12</td><td>na</td><td>na</td><td>na</td><td>na</td><td>0</td><td>114</td><td>1897</td><td>1899</td></tr>\n",
       "\t<tr><td>1901</td><td>16</td><td> 8</td><td>76</td><td>14</td><td>na</td><td>na</td><td>na</td><td>na</td><td>0</td><td>114</td><td>1900</td><td>1902</td></tr>\n",
       "\t<tr><td>1903</td><td>12</td><td>12</td><td>73</td><td>16</td><td>na</td><td>na</td><td>na</td><td>na</td><td>1</td><td>114</td><td>1902</td><td>1904</td></tr>\n",
       "\t<tr><td>1906</td><td>9 </td><td>12</td><td>56</td><td>24</td><td>na</td><td>na</td><td>na</td><td>9 </td><td>4</td><td>114</td><td>1905</td><td>1907</td></tr>\n",
       "\t<tr><td>1909</td><td>11</td><td>21</td><td>2 </td><td>24</td><td>27</td><td>8 </td><td>na</td><td>15</td><td>6</td><td>114</td><td>1908</td><td>1910</td></tr>\n",
       "\t<tr><td>1910</td><td>na</td><td>13</td><td>na</td><td>24</td><td>na</td><td>na</td><td>57</td><td>20</td><td>0</td><td>114</td><td>1909</td><td>1911</td></tr>\n",
       "</tbody>\n",
       "</table>\n"
      ],
      "text/latex": [
       "A data.frame: 6 × 13\n",
       "\\begin{tabular}{lllllllllllll}\n",
       " år & fv & h & vr & s & vr.c & vr.n & v & r & l & i.alt & before\\_election & after\\_election\\\\\n",
       " <int> & <chr> & <int> & <chr> & <int> & <chr> & <chr> & <chr> & <chr> & <int> & <int> & <dbl> & <dbl>\\\\\n",
       "\\hline\n",
       "\t 1898 & 23 & 16 & 63 & 12 & na & na & na & na & 0 & 114 & 1897 & 1899\\\\\n",
       "\t 1901 & 16 &  8 & 76 & 14 & na & na & na & na & 0 & 114 & 1900 & 1902\\\\\n",
       "\t 1903 & 12 & 12 & 73 & 16 & na & na & na & na & 1 & 114 & 1902 & 1904\\\\\n",
       "\t 1906 & 9  & 12 & 56 & 24 & na & na & na & 9  & 4 & 114 & 1905 & 1907\\\\\n",
       "\t 1909 & 11 & 21 & 2  & 24 & 27 & 8  & na & 15 & 6 & 114 & 1908 & 1910\\\\\n",
       "\t 1910 & na & 13 & na & 24 & na & na & 57 & 20 & 0 & 114 & 1909 & 1911\\\\\n",
       "\\end{tabular}\n"
      ],
      "text/markdown": [
       "\n",
       "A data.frame: 6 × 13\n",
       "\n",
       "| år &lt;int&gt; | fv &lt;chr&gt; | h &lt;int&gt; | vr &lt;chr&gt; | s &lt;int&gt; | vr.c &lt;chr&gt; | vr.n &lt;chr&gt; | v &lt;chr&gt; | r &lt;chr&gt; | l &lt;int&gt; | i.alt &lt;int&gt; | before_election &lt;dbl&gt; | after_election &lt;dbl&gt; |\n",
       "|---|---|---|---|---|---|---|---|---|---|---|---|---|\n",
       "| 1898 | 23 | 16 | 63 | 12 | na | na | na | na | 0 | 114 | 1897 | 1899 |\n",
       "| 1901 | 16 |  8 | 76 | 14 | na | na | na | na | 0 | 114 | 1900 | 1902 |\n",
       "| 1903 | 12 | 12 | 73 | 16 | na | na | na | na | 1 | 114 | 1902 | 1904 |\n",
       "| 1906 | 9  | 12 | 56 | 24 | na | na | na | 9  | 4 | 114 | 1905 | 1907 |\n",
       "| 1909 | 11 | 21 | 2  | 24 | 27 | 8  | na | 15 | 6 | 114 | 1908 | 1910 |\n",
       "| 1910 | na | 13 | na | 24 | na | na | 57 | 20 | 0 | 114 | 1909 | 1911 |\n",
       "\n"
      ],
      "text/plain": [
       "  år   fv h  vr s  vr.c vr.n v  r  l i.alt before_election after_election\n",
       "1 1898 23 16 63 12 na   na   na na 0 114   1897            1899          \n",
       "2 1901 16  8 76 14 na   na   na na 0 114   1900            1902          \n",
       "3 1903 12 12 73 16 na   na   na na 1 114   1902            1904          \n",
       "4 1906 9  12 56 24 na   na   na 9  4 114   1905            1907          \n",
       "5 1909 11 21 2  24 27   8    na 15 6 114   1908            1910          \n",
       "6 1910 na 13 na 24 na   na   57 20 0 114   1909            1911          "
      ]
     },
     "metadata": {},
     "output_type": "display_data"
    },
    {
     "name": "stdout",
     "output_type": "stream",
     "text": [
      "'data.frame':\t6 obs. of  13 variables:\n",
      " $ år             : int  1898 1901 1903 1906 1909 1910\n",
      " $ fv             : chr  \"23\" \"16\" \"12\" \"9\" ...\n",
      " $ h              : int  16 8 12 12 21 13\n",
      " $ vr             : chr  \"63\" \"76\" \"73\" \"56\" ...\n",
      " $ s              : int  12 14 16 24 24 24\n",
      " $ vr.c           : chr  \"na\" \"na\" \"na\" \"na\" ...\n",
      " $ vr.n           : chr  \"na\" \"na\" \"na\" \"na\" ...\n",
      " $ v              : chr  \"na\" \"na\" \"na\" \"na\" ...\n",
      " $ r              : chr  \"na\" \"na\" \"na\" \"9\" ...\n",
      " $ l              : int  0 0 1 4 6 0\n",
      " $ i.alt          : int  114 114 114 114 114 114\n",
      " $ before_election: num  1897 1900 1902 1905 1908 ...\n",
      " $ after_election : num  1899 1902 1904 1907 1910 ...\n"
     ]
    }
   ],
   "source": [
    "parliament$before_election <- c(parliament$år-1)\n",
    "parliament$after_election <- c(parliament$år+1)\n",
    "parliament\n",
    "str(parliament)"
   ]
  },
  {
   "cell_type": "code",
   "execution_count": 81,
   "id": "b0d6e1ad-61dc-4c38-a595-c8c11974f10c",
   "metadata": {},
   "outputs": [
    {
     "data": {
      "text/html": [
       "<table class=\"dataframe\">\n",
       "<caption>A data.frame: 6 × 5</caption>\n",
       "<thead>\n",
       "\t<tr><th></th><th scope=col>before_election</th><th scope=col>arbejdsnedlukninger</th><th scope=col>strejke</th><th scope=col>lockout</th><th scope=col>blandet.eller.ved.ikke</th></tr>\n",
       "\t<tr><th></th><th scope=col>&lt;int&gt;</th><th scope=col>&lt;int&gt;</th><th scope=col>&lt;int&gt;</th><th scope=col>&lt;int&gt;</th><th scope=col>&lt;int&gt;</th></tr>\n",
       "</thead>\n",
       "<tbody>\n",
       "\t<tr><th scope=row>1</th><td>1897</td><td>111</td><td>77</td><td>11</td><td>23</td></tr>\n",
       "\t<tr><th scope=row>4</th><td>1900</td><td> 82</td><td>62</td><td> 5</td><td>15</td></tr>\n",
       "\t<tr><th scope=row>6</th><td>1902</td><td> 68</td><td>54</td><td> 6</td><td> 8</td></tr>\n",
       "\t<tr><th scope=row>9</th><td>1905</td><td> 75</td><td>61</td><td> 3</td><td>11</td></tr>\n",
       "\t<tr><th scope=row>12</th><td>1908</td><td>122</td><td>98</td><td> 2</td><td>22</td></tr>\n",
       "\t<tr><th scope=row>13</th><td>1909</td><td> 65</td><td>40</td><td> 7</td><td>18</td></tr>\n",
       "</tbody>\n",
       "</table>\n"
      ],
      "text/latex": [
       "A data.frame: 6 × 5\n",
       "\\begin{tabular}{r|lllll}\n",
       "  & before\\_election & arbejdsnedlukninger & strejke & lockout & blandet.eller.ved.ikke\\\\\n",
       "  & <int> & <int> & <int> & <int> & <int>\\\\\n",
       "\\hline\n",
       "\t1 & 1897 & 111 & 77 & 11 & 23\\\\\n",
       "\t4 & 1900 &  82 & 62 &  5 & 15\\\\\n",
       "\t6 & 1902 &  68 & 54 &  6 &  8\\\\\n",
       "\t9 & 1905 &  75 & 61 &  3 & 11\\\\\n",
       "\t12 & 1908 & 122 & 98 &  2 & 22\\\\\n",
       "\t13 & 1909 &  65 & 40 &  7 & 18\\\\\n",
       "\\end{tabular}\n"
      ],
      "text/markdown": [
       "\n",
       "A data.frame: 6 × 5\n",
       "\n",
       "| <!--/--> | before_election &lt;int&gt; | arbejdsnedlukninger &lt;int&gt; | strejke &lt;int&gt; | lockout &lt;int&gt; | blandet.eller.ved.ikke &lt;int&gt; |\n",
       "|---|---|---|---|---|---|\n",
       "| 1 | 1897 | 111 | 77 | 11 | 23 |\n",
       "| 4 | 1900 |  82 | 62 |  5 | 15 |\n",
       "| 6 | 1902 |  68 | 54 |  6 |  8 |\n",
       "| 9 | 1905 |  75 | 61 |  3 | 11 |\n",
       "| 12 | 1908 | 122 | 98 |  2 | 22 |\n",
       "| 13 | 1909 |  65 | 40 |  7 | 18 |\n",
       "\n"
      ],
      "text/plain": [
       "   before_election arbejdsnedlukninger strejke lockout blandet.eller.ved.ikke\n",
       "1  1897            111                 77      11      23                    \n",
       "4  1900             82                 62       5      15                    \n",
       "6  1902             68                 54       6       8                    \n",
       "9  1905             75                 61       3      11                    \n",
       "12 1908            122                 98       2      22                    \n",
       "13 1909             65                 40       7      18                    "
      ]
     },
     "metadata": {},
     "output_type": "display_data"
    },
    {
     "data": {
      "text/html": [
       "<table class=\"dataframe\">\n",
       "<caption>A data.frame: 6 × 5</caption>\n",
       "<thead>\n",
       "\t<tr><th></th><th scope=col>after_election</th><th scope=col>arbejdsnedlukninger</th><th scope=col>strejke</th><th scope=col>lockout</th><th scope=col>blandet.eller.ved.ikke</th></tr>\n",
       "\t<tr><th></th><th scope=col>&lt;dbl&gt;</th><th scope=col>&lt;dbl&gt;</th><th scope=col>&lt;dbl&gt;</th><th scope=col>&lt;dbl&gt;</th><th scope=col>&lt;dbl&gt;</th></tr>\n",
       "</thead>\n",
       "<tbody>\n",
       "\t<tr><th scope=row>3</th><td>1899</td><td> 98</td><td>81</td><td>3</td><td>14</td></tr>\n",
       "\t<tr><th scope=row>6</th><td>1902</td><td> 68</td><td>54</td><td>6</td><td> 8</td></tr>\n",
       "\t<tr><th scope=row>8</th><td>1904</td><td> 86</td><td>69</td><td>3</td><td>14</td></tr>\n",
       "\t<tr><th scope=row>11</th><td>1907</td><td>105</td><td>79</td><td>4</td><td>22</td></tr>\n",
       "\t<tr><th scope=row>14</th><td>1910</td><td> 71</td><td>61</td><td>3</td><td> 7</td></tr>\n",
       "\t<tr><th scope=row>6.1</th><td>1911</td><td>  1</td><td> 1</td><td>1</td><td> 1</td></tr>\n",
       "</tbody>\n",
       "</table>\n"
      ],
      "text/latex": [
       "A data.frame: 6 × 5\n",
       "\\begin{tabular}{r|lllll}\n",
       "  & after\\_election & arbejdsnedlukninger & strejke & lockout & blandet.eller.ved.ikke\\\\\n",
       "  & <dbl> & <dbl> & <dbl> & <dbl> & <dbl>\\\\\n",
       "\\hline\n",
       "\t3 & 1899 &  98 & 81 & 3 & 14\\\\\n",
       "\t6 & 1902 &  68 & 54 & 6 &  8\\\\\n",
       "\t8 & 1904 &  86 & 69 & 3 & 14\\\\\n",
       "\t11 & 1907 & 105 & 79 & 4 & 22\\\\\n",
       "\t14 & 1910 &  71 & 61 & 3 &  7\\\\\n",
       "\t6.1 & 1911 &   1 &  1 & 1 &  1\\\\\n",
       "\\end{tabular}\n"
      ],
      "text/markdown": [
       "\n",
       "A data.frame: 6 × 5\n",
       "\n",
       "| <!--/--> | after_election &lt;dbl&gt; | arbejdsnedlukninger &lt;dbl&gt; | strejke &lt;dbl&gt; | lockout &lt;dbl&gt; | blandet.eller.ved.ikke &lt;dbl&gt; |\n",
       "|---|---|---|---|---|---|\n",
       "| 3 | 1899 |  98 | 81 | 3 | 14 |\n",
       "| 6 | 1902 |  68 | 54 | 6 |  8 |\n",
       "| 8 | 1904 |  86 | 69 | 3 | 14 |\n",
       "| 11 | 1907 | 105 | 79 | 4 | 22 |\n",
       "| 14 | 1910 |  71 | 61 | 3 |  7 |\n",
       "| 6.1 | 1911 |   1 |  1 | 1 |  1 |\n",
       "\n"
      ],
      "text/plain": [
       "    after_election arbejdsnedlukninger strejke lockout blandet.eller.ved.ikke\n",
       "3   1899            98                 81      3       14                    \n",
       "6   1902            68                 54      6        8                    \n",
       "8   1904            86                 69      3       14                    \n",
       "11  1907           105                 79      4       22                    \n",
       "14  1910            71                 61      3        7                    \n",
       "6.1 1911             1                  1      1        1                    "
      ]
     },
     "metadata": {},
     "output_type": "display_data"
    }
   ],
   "source": [
    "worker_be <- worker[c(1,4,6,9,12,13), ]\n",
    "colnames(worker_be) <- c('before_election','arbejdsnedlukninger','strejke','lockout','blandet.eller.ved.ikke')\n",
    "worker_be\n",
    "\n",
    "worker_ae<-worker[c(3,6,8,11,14),]\n",
    "colnames(worker_ae) <- c('after_election','arbejdsnedlukninger','strejke','lockout','blandet.eller.ved.ikke')\n",
    "worker_ae[nrow(worker_ae) + 1,] <- c(1911, 1, 1, 1, 1)\n",
    "worker_ae\n",
    "\n",
    "# i renamed the column year so that i could merge the two dataframes correctly"
   ]
  },
  {
   "cell_type": "code",
   "execution_count": 82,
   "id": "9fcfd0ef-fed2-49f3-b39c-c05c6a345433",
   "metadata": {
    "scrolled": true
   },
   "outputs": [
    {
     "data": {
      "text/html": [
       "<table class=\"dataframe\">\n",
       "<caption>A data.frame: 6 × 17</caption>\n",
       "<thead>\n",
       "\t<tr><th scope=col>before_election</th><th scope=col>år</th><th scope=col>fv</th><th scope=col>h</th><th scope=col>vr</th><th scope=col>s</th><th scope=col>vr.c</th><th scope=col>vr.n</th><th scope=col>v</th><th scope=col>r</th><th scope=col>l</th><th scope=col>i.alt</th><th scope=col>after_election</th><th scope=col>arbejdsnedlukninger</th><th scope=col>strejke</th><th scope=col>lockout</th><th scope=col>blandet.eller.ved.ikke</th></tr>\n",
       "\t<tr><th scope=col>&lt;dbl&gt;</th><th scope=col>&lt;int&gt;</th><th scope=col>&lt;chr&gt;</th><th scope=col>&lt;int&gt;</th><th scope=col>&lt;chr&gt;</th><th scope=col>&lt;int&gt;</th><th scope=col>&lt;chr&gt;</th><th scope=col>&lt;chr&gt;</th><th scope=col>&lt;chr&gt;</th><th scope=col>&lt;chr&gt;</th><th scope=col>&lt;int&gt;</th><th scope=col>&lt;int&gt;</th><th scope=col>&lt;dbl&gt;</th><th scope=col>&lt;int&gt;</th><th scope=col>&lt;int&gt;</th><th scope=col>&lt;int&gt;</th><th scope=col>&lt;int&gt;</th></tr>\n",
       "</thead>\n",
       "<tbody>\n",
       "\t<tr><td>1897</td><td>1898</td><td>23</td><td>16</td><td>63</td><td>12</td><td>na</td><td>na</td><td>na</td><td>na</td><td>0</td><td>114</td><td>1899</td><td>111</td><td>77</td><td>11</td><td>23</td></tr>\n",
       "\t<tr><td>1900</td><td>1901</td><td>16</td><td> 8</td><td>76</td><td>14</td><td>na</td><td>na</td><td>na</td><td>na</td><td>0</td><td>114</td><td>1902</td><td> 82</td><td>62</td><td> 5</td><td>15</td></tr>\n",
       "\t<tr><td>1902</td><td>1903</td><td>12</td><td>12</td><td>73</td><td>16</td><td>na</td><td>na</td><td>na</td><td>na</td><td>1</td><td>114</td><td>1904</td><td> 68</td><td>54</td><td> 6</td><td> 8</td></tr>\n",
       "\t<tr><td>1905</td><td>1906</td><td>9 </td><td>12</td><td>56</td><td>24</td><td>na</td><td>na</td><td>na</td><td>9 </td><td>4</td><td>114</td><td>1907</td><td> 75</td><td>61</td><td> 3</td><td>11</td></tr>\n",
       "\t<tr><td>1908</td><td>1909</td><td>11</td><td>21</td><td>2 </td><td>24</td><td>27</td><td>8 </td><td>na</td><td>15</td><td>6</td><td>114</td><td>1910</td><td>122</td><td>98</td><td> 2</td><td>22</td></tr>\n",
       "\t<tr><td>1909</td><td>1910</td><td>na</td><td>13</td><td>na</td><td>24</td><td>na</td><td>na</td><td>57</td><td>20</td><td>0</td><td>114</td><td>1911</td><td> 65</td><td>40</td><td> 7</td><td>18</td></tr>\n",
       "</tbody>\n",
       "</table>\n"
      ],
      "text/latex": [
       "A data.frame: 6 × 17\n",
       "\\begin{tabular}{lllllllllllllllll}\n",
       " before\\_election & år & fv & h & vr & s & vr.c & vr.n & v & r & l & i.alt & after\\_election & arbejdsnedlukninger & strejke & lockout & blandet.eller.ved.ikke\\\\\n",
       " <dbl> & <int> & <chr> & <int> & <chr> & <int> & <chr> & <chr> & <chr> & <chr> & <int> & <int> & <dbl> & <int> & <int> & <int> & <int>\\\\\n",
       "\\hline\n",
       "\t 1897 & 1898 & 23 & 16 & 63 & 12 & na & na & na & na & 0 & 114 & 1899 & 111 & 77 & 11 & 23\\\\\n",
       "\t 1900 & 1901 & 16 &  8 & 76 & 14 & na & na & na & na & 0 & 114 & 1902 &  82 & 62 &  5 & 15\\\\\n",
       "\t 1902 & 1903 & 12 & 12 & 73 & 16 & na & na & na & na & 1 & 114 & 1904 &  68 & 54 &  6 &  8\\\\\n",
       "\t 1905 & 1906 & 9  & 12 & 56 & 24 & na & na & na & 9  & 4 & 114 & 1907 &  75 & 61 &  3 & 11\\\\\n",
       "\t 1908 & 1909 & 11 & 21 & 2  & 24 & 27 & 8  & na & 15 & 6 & 114 & 1910 & 122 & 98 &  2 & 22\\\\\n",
       "\t 1909 & 1910 & na & 13 & na & 24 & na & na & 57 & 20 & 0 & 114 & 1911 &  65 & 40 &  7 & 18\\\\\n",
       "\\end{tabular}\n"
      ],
      "text/markdown": [
       "\n",
       "A data.frame: 6 × 17\n",
       "\n",
       "| before_election &lt;dbl&gt; | år &lt;int&gt; | fv &lt;chr&gt; | h &lt;int&gt; | vr &lt;chr&gt; | s &lt;int&gt; | vr.c &lt;chr&gt; | vr.n &lt;chr&gt; | v &lt;chr&gt; | r &lt;chr&gt; | l &lt;int&gt; | i.alt &lt;int&gt; | after_election &lt;dbl&gt; | arbejdsnedlukninger &lt;int&gt; | strejke &lt;int&gt; | lockout &lt;int&gt; | blandet.eller.ved.ikke &lt;int&gt; |\n",
       "|---|---|---|---|---|---|---|---|---|---|---|---|---|---|---|---|---|\n",
       "| 1897 | 1898 | 23 | 16 | 63 | 12 | na | na | na | na | 0 | 114 | 1899 | 111 | 77 | 11 | 23 |\n",
       "| 1900 | 1901 | 16 |  8 | 76 | 14 | na | na | na | na | 0 | 114 | 1902 |  82 | 62 |  5 | 15 |\n",
       "| 1902 | 1903 | 12 | 12 | 73 | 16 | na | na | na | na | 1 | 114 | 1904 |  68 | 54 |  6 |  8 |\n",
       "| 1905 | 1906 | 9  | 12 | 56 | 24 | na | na | na | 9  | 4 | 114 | 1907 |  75 | 61 |  3 | 11 |\n",
       "| 1908 | 1909 | 11 | 21 | 2  | 24 | 27 | 8  | na | 15 | 6 | 114 | 1910 | 122 | 98 |  2 | 22 |\n",
       "| 1909 | 1910 | na | 13 | na | 24 | na | na | 57 | 20 | 0 | 114 | 1911 |  65 | 40 |  7 | 18 |\n",
       "\n"
      ],
      "text/plain": [
       "  before_election år   fv h  vr s  vr.c vr.n v  r  l i.alt after_election\n",
       "1 1897            1898 23 16 63 12 na   na   na na 0 114   1899          \n",
       "2 1900            1901 16  8 76 14 na   na   na na 0 114   1902          \n",
       "3 1902            1903 12 12 73 16 na   na   na na 1 114   1904          \n",
       "4 1905            1906 9  12 56 24 na   na   na 9  4 114   1907          \n",
       "5 1908            1909 11 21 2  24 27   8    na 15 6 114   1910          \n",
       "6 1909            1910 na 13 na 24 na   na   57 20 0 114   1911          \n",
       "  arbejdsnedlukninger strejke lockout blandet.eller.ved.ikke\n",
       "1 111                 77      11      23                    \n",
       "2  82                 62       5      15                    \n",
       "3  68                 54       6       8                    \n",
       "4  75                 61       3      11                    \n",
       "5 122                 98       2      22                    \n",
       "6  65                 40       7      18                    "
      ]
     },
     "metadata": {},
     "output_type": "display_data"
    },
    {
     "data": {
      "text/html": [
       "<table class=\"dataframe\">\n",
       "<caption>A data.frame: 5 × 17</caption>\n",
       "<thead>\n",
       "\t<tr><th></th><th scope=col>after_election</th><th scope=col>år</th><th scope=col>fv</th><th scope=col>h</th><th scope=col>vr</th><th scope=col>s</th><th scope=col>vr.c</th><th scope=col>vr.n</th><th scope=col>v</th><th scope=col>r</th><th scope=col>l</th><th scope=col>i.alt</th><th scope=col>before_election</th><th scope=col>arbejdsnedlukninger</th><th scope=col>strejke</th><th scope=col>lockout</th><th scope=col>blandet.eller.ved.ikke</th></tr>\n",
       "\t<tr><th></th><th scope=col>&lt;dbl&gt;</th><th scope=col>&lt;int&gt;</th><th scope=col>&lt;chr&gt;</th><th scope=col>&lt;int&gt;</th><th scope=col>&lt;chr&gt;</th><th scope=col>&lt;int&gt;</th><th scope=col>&lt;chr&gt;</th><th scope=col>&lt;chr&gt;</th><th scope=col>&lt;chr&gt;</th><th scope=col>&lt;chr&gt;</th><th scope=col>&lt;int&gt;</th><th scope=col>&lt;int&gt;</th><th scope=col>&lt;dbl&gt;</th><th scope=col>&lt;dbl&gt;</th><th scope=col>&lt;dbl&gt;</th><th scope=col>&lt;dbl&gt;</th><th scope=col>&lt;dbl&gt;</th></tr>\n",
       "</thead>\n",
       "<tbody>\n",
       "\t<tr><th scope=row>1</th><td>1899</td><td>1898</td><td>23</td><td>16</td><td>63</td><td>12</td><td>na</td><td>na</td><td>na</td><td>na</td><td>0</td><td>114</td><td>1897</td><td> 98</td><td>81</td><td>3</td><td>14</td></tr>\n",
       "\t<tr><th scope=row>2</th><td>1902</td><td>1901</td><td>16</td><td> 8</td><td>76</td><td>14</td><td>na</td><td>na</td><td>na</td><td>na</td><td>0</td><td>114</td><td>1900</td><td> 68</td><td>54</td><td>6</td><td> 8</td></tr>\n",
       "\t<tr><th scope=row>3</th><td>1904</td><td>1903</td><td>12</td><td>12</td><td>73</td><td>16</td><td>na</td><td>na</td><td>na</td><td>na</td><td>1</td><td>114</td><td>1902</td><td> 86</td><td>69</td><td>3</td><td>14</td></tr>\n",
       "\t<tr><th scope=row>4</th><td>1907</td><td>1906</td><td>9 </td><td>12</td><td>56</td><td>24</td><td>na</td><td>na</td><td>na</td><td>9 </td><td>4</td><td>114</td><td>1905</td><td>105</td><td>79</td><td>4</td><td>22</td></tr>\n",
       "\t<tr><th scope=row>5</th><td>1910</td><td>1909</td><td>11</td><td>21</td><td>2 </td><td>24</td><td>27</td><td>8 </td><td>na</td><td>15</td><td>6</td><td>114</td><td>1908</td><td> 71</td><td>61</td><td>3</td><td> 7</td></tr>\n",
       "</tbody>\n",
       "</table>\n"
      ],
      "text/latex": [
       "A data.frame: 5 × 17\n",
       "\\begin{tabular}{r|lllllllllllllllll}\n",
       "  & after\\_election & år & fv & h & vr & s & vr.c & vr.n & v & r & l & i.alt & before\\_election & arbejdsnedlukninger & strejke & lockout & blandet.eller.ved.ikke\\\\\n",
       "  & <dbl> & <int> & <chr> & <int> & <chr> & <int> & <chr> & <chr> & <chr> & <chr> & <int> & <int> & <dbl> & <dbl> & <dbl> & <dbl> & <dbl>\\\\\n",
       "\\hline\n",
       "\t1 & 1899 & 1898 & 23 & 16 & 63 & 12 & na & na & na & na & 0 & 114 & 1897 &  98 & 81 & 3 & 14\\\\\n",
       "\t2 & 1902 & 1901 & 16 &  8 & 76 & 14 & na & na & na & na & 0 & 114 & 1900 &  68 & 54 & 6 &  8\\\\\n",
       "\t3 & 1904 & 1903 & 12 & 12 & 73 & 16 & na & na & na & na & 1 & 114 & 1902 &  86 & 69 & 3 & 14\\\\\n",
       "\t4 & 1907 & 1906 & 9  & 12 & 56 & 24 & na & na & na & 9  & 4 & 114 & 1905 & 105 & 79 & 4 & 22\\\\\n",
       "\t5 & 1910 & 1909 & 11 & 21 & 2  & 24 & 27 & 8  & na & 15 & 6 & 114 & 1908 &  71 & 61 & 3 &  7\\\\\n",
       "\\end{tabular}\n"
      ],
      "text/markdown": [
       "\n",
       "A data.frame: 5 × 17\n",
       "\n",
       "| <!--/--> | after_election &lt;dbl&gt; | år &lt;int&gt; | fv &lt;chr&gt; | h &lt;int&gt; | vr &lt;chr&gt; | s &lt;int&gt; | vr.c &lt;chr&gt; | vr.n &lt;chr&gt; | v &lt;chr&gt; | r &lt;chr&gt; | l &lt;int&gt; | i.alt &lt;int&gt; | before_election &lt;dbl&gt; | arbejdsnedlukninger &lt;dbl&gt; | strejke &lt;dbl&gt; | lockout &lt;dbl&gt; | blandet.eller.ved.ikke &lt;dbl&gt; |\n",
       "|---|---|---|---|---|---|---|---|---|---|---|---|---|---|---|---|---|---|\n",
       "| 1 | 1899 | 1898 | 23 | 16 | 63 | 12 | na | na | na | na | 0 | 114 | 1897 |  98 | 81 | 3 | 14 |\n",
       "| 2 | 1902 | 1901 | 16 |  8 | 76 | 14 | na | na | na | na | 0 | 114 | 1900 |  68 | 54 | 6 |  8 |\n",
       "| 3 | 1904 | 1903 | 12 | 12 | 73 | 16 | na | na | na | na | 1 | 114 | 1902 |  86 | 69 | 3 | 14 |\n",
       "| 4 | 1907 | 1906 | 9  | 12 | 56 | 24 | na | na | na | 9  | 4 | 114 | 1905 | 105 | 79 | 4 | 22 |\n",
       "| 5 | 1910 | 1909 | 11 | 21 | 2  | 24 | 27 | 8  | na | 15 | 6 | 114 | 1908 |  71 | 61 | 3 |  7 |\n",
       "\n"
      ],
      "text/plain": [
       "  after_election år   fv h  vr s  vr.c vr.n v  r  l i.alt before_election\n",
       "1 1899           1898 23 16 63 12 na   na   na na 0 114   1897           \n",
       "2 1902           1901 16  8 76 14 na   na   na na 0 114   1900           \n",
       "3 1904           1903 12 12 73 16 na   na   na na 1 114   1902           \n",
       "4 1907           1906 9  12 56 24 na   na   na 9  4 114   1905           \n",
       "5 1910           1909 11 21 2  24 27   8    na 15 6 114   1908           \n",
       "  arbejdsnedlukninger strejke lockout blandet.eller.ved.ikke\n",
       "1  98                 81      3       14                    \n",
       "2  68                 54      6        8                    \n",
       "3  86                 69      3       14                    \n",
       "4 105                 79      4       22                    \n",
       "5  71                 61      3        7                    "
      ]
     },
     "metadata": {},
     "output_type": "display_data"
    }
   ],
   "source": [
    "df_before_election <- merge(parliament,worker_be,by=\"before_election\")\n",
    "df_before_election\n",
    "df_after_election <- merge(parliament,worker_ae,by=\"after_election\")\n",
    "df_after_election <- df_after_election[-6,]\n",
    "df_after_election\n",
    "#i had to remove the last line of after election data as i don't have data for workclosures in 1911"
   ]
  },
  {
   "cell_type": "markdown",
   "id": "d7f60e81-a28b-48ad-afdb-61e3828ab41a",
   "metadata": {},
   "source": [
    "# Plot and tests #"
   ]
  },
  {
   "cell_type": "code",
   "execution_count": 88,
   "id": "8352b572-4921-469f-ab70-8ba49b45be42",
   "metadata": {
    "scrolled": true
   },
   "outputs": [
    {
     "data": {
      "image/png": "[encoded data removed]",
      "text/plain": [
       "plot without title"
      ]
     },
     "metadata": {
      "image/png": {
       "height": 420,
       "width": 420
      }
     },
     "output_type": "display_data"
    }
   ],
   "source": [
    "ggplot(df_before_election,\n",
    "       aes(x = arbejdsnedlukninger,\n",
    "           y = h))+\n",
    "    geom_point(position = 'jitter')"
   ]
  },
  {
   "cell_type": "markdown",
   "id": "da1577ec-b630-46aa-a01e-0fcd6606b14e",
   "metadata": {},
   "source": [
    "## Cor.test ##"
   ]
  },
  {
   "cell_type": "code",
   "execution_count": 89,
   "id": "d7256d7d-081f-4014-ac5a-c499388b1032",
   "metadata": {},
   "outputs": [
    {
     "data": {
      "text/plain": [
       "\n",
       "\tPearson's product-moment correlation\n",
       "\n",
       "data:  df_before_election$lockout and df_before_election$h\n",
       "t = -0.21821, df = 4, p-value = 0.8379\n",
       "alternative hypothesis: true correlation is not equal to 0\n",
       "95 percent confidence interval:\n",
       " -0.8455912  0.7709623\n",
       "sample estimates:\n",
       "       cor \n",
       "-0.1084616 \n"
      ]
     },
     "metadata": {},
     "output_type": "display_data"
    },
    {
     "data": {
      "text/plain": [
       "\n",
       "\tPearson's product-moment correlation\n",
       "\n",
       "data:  df_before_election$strejke and df_before_election$h\n",
       "t = 2.229, df = 4, p-value = 0.08971\n",
       "alternative hypothesis: true correlation is not equal to 0\n",
       "95 percent confidence interval:\n",
       " -0.1698702  0.9699611\n",
       "sample estimates:\n",
       "      cor \n",
       "0.7443004 \n"
      ]
     },
     "metadata": {},
     "output_type": "display_data"
    },
    {
     "data": {
      "text/plain": [
       "\n",
       "\tPearson's product-moment correlation\n",
       "\n",
       "data:  df_before_election$arbejdsnedlukninger and df_before_election$h\n",
       "t = 2.4783, df = 4, p-value = 0.06834\n",
       "alternative hypothesis: true correlation is not equal to 0\n",
       "95 percent confidence interval:\n",
       " -0.09053951  0.97438329\n",
       "sample estimates:\n",
       "      cor \n",
       "0.7782028 \n"
      ]
     },
     "metadata": {},
     "output_type": "display_data"
    }
   ],
   "source": [
    "#before election: højre\n",
    "cor.test(df_before_election$lockout, df_before_election$h)\n",
    "cor.test(df_before_election$strejke, df_before_election$h)\n",
    "cor.test(df_before_election$arbejdsnedlukninger, df_before_election$h)"
   ]
  },
  {
   "cell_type": "code",
   "execution_count": 93,
   "id": "318207a2-2cb7-4e21-91e6-43af85b99281",
   "metadata": {},
   "outputs": [
    {
     "data": {
      "text/plain": [
       "\n",
       "\tPearson's product-moment correlation\n",
       "\n",
       "data:  df_before_election$lockout and df_before_election$s\n",
       "t = -1.7867, df = 4, p-value = 0.1485\n",
       "alternative hypothesis: true correlation is not equal to 0\n",
       "95 percent confidence interval:\n",
       " -0.9591769  0.3164128\n",
       "sample estimates:\n",
       "       cor \n",
       "-0.6662281 \n"
      ]
     },
     "metadata": {},
     "output_type": "display_data"
    },
    {
     "data": {
      "text/plain": [
       "\n",
       "\tPearson's product-moment correlation\n",
       "\n",
       "data:  df_before_election$strejke and df_before_election$s\n",
       "t = -0.056901, df = 4, p-value = 0.9574\n",
       "alternative hypothesis: true correlation is not equal to 0\n",
       "95 percent confidence interval:\n",
       " -0.8210505  0.8016237\n",
       "sample estimates:\n",
       "        cor \n",
       "-0.02843903 \n"
      ]
     },
     "metadata": {},
     "output_type": "display_data"
    },
    {
     "data": {
      "text/plain": [
       "\n",
       "\tPearson's product-moment correlation\n",
       "\n",
       "data:  df_before_election$arbejdsnedlukninger and df_before_election$s\n",
       "t = -0.24473, df = 4, p-value = 0.8187\n",
       "alternative hypothesis: true correlation is not equal to 0\n",
       "95 percent confidence interval:\n",
       " -0.8493033  0.7655651\n",
       "sample estimates:\n",
       "       cor \n",
       "-0.1214591 \n"
      ]
     },
     "metadata": {},
     "output_type": "display_data"
    },
    {
     "data": {
      "text/plain": [
       "\n",
       "\tPearson's product-moment correlation\n",
       "\n",
       "data:  df_before_election$s and df_before_election$lockout\n",
       "t = -1.7867, df = 4, p-value = 0.1485\n",
       "alternative hypothesis: true correlation is not equal to 0\n",
       "95 percent confidence interval:\n",
       " -0.9591769  0.3164128\n",
       "sample estimates:\n",
       "       cor \n",
       "-0.6662281 \n"
      ]
     },
     "metadata": {},
     "output_type": "display_data"
    },
    {
     "data": {
      "text/plain": [
       "\n",
       "\tPearson's product-moment correlation\n",
       "\n",
       "data:  df_before_election$s and df_before_election$strejke\n",
       "t = -0.056901, df = 4, p-value = 0.9574\n",
       "alternative hypothesis: true correlation is not equal to 0\n",
       "95 percent confidence interval:\n",
       " -0.8210505  0.8016237\n",
       "sample estimates:\n",
       "        cor \n",
       "-0.02843903 \n"
      ]
     },
     "metadata": {},
     "output_type": "display_data"
    },
    {
     "data": {
      "text/plain": [
       "\n",
       "\tPearson's product-moment correlation\n",
       "\n",
       "data:  df_before_election$s and df_before_election$arbejdsnedlukninger\n",
       "t = -0.24473, df = 4, p-value = 0.8187\n",
       "alternative hypothesis: true correlation is not equal to 0\n",
       "95 percent confidence interval:\n",
       " -0.8493033  0.7655651\n",
       "sample estimates:\n",
       "       cor \n",
       "-0.1214591 \n"
      ]
     },
     "metadata": {},
     "output_type": "display_data"
    }
   ],
   "source": [
    "#before election: soc.dem\n",
    "cor.test(df_before_election$lockout, df_before_election$s)\n",
    "cor.test(df_before_election$strejke, df_before_election$s)\n",
    "cor.test(df_before_election$arbejdsnedlukninger, df_before_election$s)"
   ]
  },
  {
   "cell_type": "code",
   "execution_count": 91,
   "id": "3debf86b-41c6-490a-a3de-19d677823167",
   "metadata": {},
   "outputs": [
    {
     "data": {
      "text/plain": [
       "\n",
       "\tPearson's product-moment correlation\n",
       "\n",
       "data:  df_after_election$h and df_after_election$lockout\n",
       "t = -1.9542, df = 3, p-value = 0.1457\n",
       "alternative hypothesis: true correlation is not equal to 0\n",
       "95 percent confidence interval:\n",
       " -0.9821552  0.3941405\n",
       "sample estimates:\n",
       "       cor \n",
       "-0.7483575 \n"
      ]
     },
     "metadata": {},
     "output_type": "display_data"
    },
    {
     "data": {
      "text/plain": [
       "\n",
       "\tPearson's product-moment correlation\n",
       "\n",
       "data:  df_after_election$h and df_after_election$strejke\n",
       "t = 0.29237, df = 3, p-value = 0.7891\n",
       "alternative hypothesis: true correlation is not equal to 0\n",
       "95 percent confidence interval:\n",
       " -0.8390322  0.9144287\n",
       "sample estimates:\n",
       "      cor \n",
       "0.1664455 \n"
      ]
     },
     "metadata": {},
     "output_type": "display_data"
    },
    {
     "data": {
      "text/plain": [
       "\n",
       "\tPearson's product-moment correlation\n",
       "\n",
       "data:  df_after_election$h and df_after_election$arbejdsnedlukninger\n",
       "t = -0.06188, df = 3, p-value = 0.9546\n",
       "alternative hypothesis: true correlation is not equal to 0\n",
       "95 percent confidence interval:\n",
       " -0.8899369  0.8740970\n",
       "sample estimates:\n",
       "        cor \n",
       "-0.03570358 \n"
      ]
     },
     "metadata": {},
     "output_type": "display_data"
    }
   ],
   "source": [
    "#after election: Højre\n",
    "cor.test(df_after_election$h, df_after_election$lockout)\n",
    "cor.test(df_after_election$h, df_after_election$strejke)\n",
    "cor.test(df_after_election$h, df_after_election$arbejdsnedlukninger)"
   ]
  },
  {
   "cell_type": "code",
   "execution_count": 92,
   "id": "a228677c-5670-4096-b900-d8819bfb48ab",
   "metadata": {
    "scrolled": true
   },
   "outputs": [
    {
     "data": {
      "text/plain": [
       "\n",
       "\tPearson's product-moment correlation\n",
       "\n",
       "data:  df_after_election$s and df_after_election$lockout\n",
       "t = -0.35977, df = 3, p-value = 0.7429\n",
       "alternative hypothesis: true correlation is not equal to 0\n",
       "95 percent confidence interval:\n",
       " -0.9204786  0.8273431\n",
       "sample estimates:\n",
       "       cor \n",
       "-0.2033723 \n"
      ]
     },
     "metadata": {},
     "output_type": "display_data"
    },
    {
     "data": {
      "text/plain": [
       "\n",
       "\tPearson's product-moment correlation\n",
       "\n",
       "data:  df_after_election$s and df_after_election$strejke\n",
       "t = 0, df = 3, p-value = 1\n",
       "alternative hypothesis: true correlation is not equal to 0\n",
       "95 percent confidence interval:\n",
       " -0.8822664  0.8822664\n",
       "sample estimates:\n",
       "cor \n",
       "  0 \n"
      ]
     },
     "metadata": {},
     "output_type": "display_data"
    },
    {
     "data": {
      "text/plain": [
       "\n",
       "\tPearson's product-moment correlation\n",
       "\n",
       "data:  df_after_election$s and df_after_election$arbejdsnedlukninger\n",
       "t = 0.11346, df = 3, p-value = 0.9168\n",
       "alternative hypothesis: true correlation is not equal to 0\n",
       "95 percent confidence interval:\n",
       " -0.8668945  0.8959621\n",
       "sample estimates:\n",
       "       cor \n",
       "0.06536584 \n"
      ]
     },
     "metadata": {},
     "output_type": "display_data"
    }
   ],
   "source": [
    "#after election: soc.dem\n",
    "cor.test(df_after_election$s, df_after_election$lockout)\n",
    "cor.test(df_after_election$s, df_after_election$strejke)\n",
    "cor.test(df_after_election$s, df_after_election$arbejdsnedlukninger)"
   ]
  },
  {
   "cell_type": "markdown",
   "id": "3bd2f9c1-e7f6-485f-a1ce-de3168e021b3",
   "metadata": {},
   "source": [
    "## Cor ##"
   ]
  },
  {
   "cell_type": "code",
   "execution_count": 101,
   "id": "2c410c73-20a8-4b60-a7f4-006ba04c7ab3",
   "metadata": {},
   "outputs": [
    {
     "data": {
      "text/html": [
       "<table class=\"dataframe\">\n",
       "<caption>A matrix: 4 × 4 of type dbl</caption>\n",
       "<thead>\n",
       "\t<tr><th></th><th scope=col>h</th><th scope=col>lockout</th><th scope=col>strejke</th><th scope=col>arbejdsnedlukninger</th></tr>\n",
       "</thead>\n",
       "<tbody>\n",
       "\t<tr><th scope=row>h</th><td> 1.0000000</td><td>-0.10846161</td><td> 0.7443004</td><td> 0.77820284</td></tr>\n",
       "\t<tr><th scope=row>lockout</th><td>-0.1084616</td><td> 1.00000000</td><td>-0.2536251</td><td>-0.00175381</td></tr>\n",
       "\t<tr><th scope=row>strejke</th><td> 0.7443004</td><td>-0.25362510</td><td> 1.0000000</td><td> 0.95367706</td></tr>\n",
       "\t<tr><th scope=row>arbejdsnedlukninger</th><td> 0.7782028</td><td>-0.00175381</td><td> 0.9536771</td><td> 1.00000000</td></tr>\n",
       "</tbody>\n",
       "</table>\n"
      ],
      "text/latex": [
       "A matrix: 4 × 4 of type dbl\n",
       "\\begin{tabular}{r|llll}\n",
       "  & h & lockout & strejke & arbejdsnedlukninger\\\\\n",
       "\\hline\n",
       "\th &  1.0000000 & -0.10846161 &  0.7443004 &  0.77820284\\\\\n",
       "\tlockout & -0.1084616 &  1.00000000 & -0.2536251 & -0.00175381\\\\\n",
       "\tstrejke &  0.7443004 & -0.25362510 &  1.0000000 &  0.95367706\\\\\n",
       "\tarbejdsnedlukninger &  0.7782028 & -0.00175381 &  0.9536771 &  1.00000000\\\\\n",
       "\\end{tabular}\n"
      ],
      "text/markdown": [
       "\n",
       "A matrix: 4 × 4 of type dbl\n",
       "\n",
       "| <!--/--> | h | lockout | strejke | arbejdsnedlukninger |\n",
       "|---|---|---|---|---|\n",
       "| h |  1.0000000 | -0.10846161 |  0.7443004 |  0.77820284 |\n",
       "| lockout | -0.1084616 |  1.00000000 | -0.2536251 | -0.00175381 |\n",
       "| strejke |  0.7443004 | -0.25362510 |  1.0000000 |  0.95367706 |\n",
       "| arbejdsnedlukninger |  0.7782028 | -0.00175381 |  0.9536771 |  1.00000000 |\n",
       "\n"
      ],
      "text/plain": [
       "                    h          lockout     strejke    arbejdsnedlukninger\n",
       "h                    1.0000000 -0.10846161  0.7443004  0.77820284        \n",
       "lockout             -0.1084616  1.00000000 -0.2536251 -0.00175381        \n",
       "strejke              0.7443004 -0.25362510  1.0000000  0.95367706        \n",
       "arbejdsnedlukninger  0.7782028 -0.00175381  0.9536771  1.00000000        "
      ]
     },
     "metadata": {},
     "output_type": "display_data"
    }
   ],
   "source": [
    "cor(df_before_election[, c(\"h\", \"lockout\", \"strejke\", \"arbejdsnedlukninger\")])"
   ]
  },
  {
   "cell_type": "code",
   "execution_count": 102,
   "id": "846a8159-2d17-4d49-947b-0de08cfd2a7d",
   "metadata": {},
   "outputs": [
    {
     "data": {
      "text/html": [
       "<table class=\"dataframe\">\n",
       "<caption>A matrix: 4 × 4 of type dbl</caption>\n",
       "<thead>\n",
       "\t<tr><th></th><th scope=col>s</th><th scope=col>lockout</th><th scope=col>strejke</th><th scope=col>arbejdsnedlukninger</th></tr>\n",
       "</thead>\n",
       "<tbody>\n",
       "\t<tr><th scope=row>s</th><td> 1.00000000</td><td>-0.66622814</td><td>-0.02843903</td><td>-0.12145912</td></tr>\n",
       "\t<tr><th scope=row>lockout</th><td>-0.66622814</td><td> 1.00000000</td><td>-0.25362510</td><td>-0.00175381</td></tr>\n",
       "\t<tr><th scope=row>strejke</th><td>-0.02843903</td><td>-0.25362510</td><td> 1.00000000</td><td> 0.95367706</td></tr>\n",
       "\t<tr><th scope=row>arbejdsnedlukninger</th><td>-0.12145912</td><td>-0.00175381</td><td> 0.95367706</td><td> 1.00000000</td></tr>\n",
       "</tbody>\n",
       "</table>\n"
      ],
      "text/latex": [
       "A matrix: 4 × 4 of type dbl\n",
       "\\begin{tabular}{r|llll}\n",
       "  & s & lockout & strejke & arbejdsnedlukninger\\\\\n",
       "\\hline\n",
       "\ts &  1.00000000 & -0.66622814 & -0.02843903 & -0.12145912\\\\\n",
       "\tlockout & -0.66622814 &  1.00000000 & -0.25362510 & -0.00175381\\\\\n",
       "\tstrejke & -0.02843903 & -0.25362510 &  1.00000000 &  0.95367706\\\\\n",
       "\tarbejdsnedlukninger & -0.12145912 & -0.00175381 &  0.95367706 &  1.00000000\\\\\n",
       "\\end{tabular}\n"
      ],
      "text/markdown": [
       "\n",
       "A matrix: 4 × 4 of type dbl\n",
       "\n",
       "| <!--/--> | s | lockout | strejke | arbejdsnedlukninger |\n",
       "|---|---|---|---|---|\n",
       "| s |  1.00000000 | -0.66622814 | -0.02843903 | -0.12145912 |\n",
       "| lockout | -0.66622814 |  1.00000000 | -0.25362510 | -0.00175381 |\n",
       "| strejke | -0.02843903 | -0.25362510 |  1.00000000 |  0.95367706 |\n",
       "| arbejdsnedlukninger | -0.12145912 | -0.00175381 |  0.95367706 |  1.00000000 |\n",
       "\n"
      ],
      "text/plain": [
       "                    s           lockout     strejke     arbejdsnedlukninger\n",
       "s                    1.00000000 -0.66622814 -0.02843903 -0.12145912        \n",
       "lockout             -0.66622814  1.00000000 -0.25362510 -0.00175381        \n",
       "strejke             -0.02843903 -0.25362510  1.00000000  0.95367706        \n",
       "arbejdsnedlukninger -0.12145912 -0.00175381  0.95367706  1.00000000        "
      ]
     },
     "metadata": {},
     "output_type": "display_data"
    }
   ],
   "source": [
    "cor(df_before_election[, c(\"s\", \"lockout\", \"strejke\", \"arbejdsnedlukninger\")])"
   ]
  },
  {
   "cell_type": "code",
   "execution_count": 103,
   "id": "ed6f15a5-f379-4dc9-885f-be9a0c437136",
   "metadata": {},
   "outputs": [
    {
     "data": {
      "text/html": [
       "<table class=\"dataframe\">\n",
       "<caption>A matrix: 4 × 4 of type dbl</caption>\n",
       "<thead>\n",
       "\t<tr><th></th><th scope=col>h</th><th scope=col>lockout</th><th scope=col>strejke</th><th scope=col>arbejdsnedlukninger</th></tr>\n",
       "</thead>\n",
       "<tbody>\n",
       "\t<tr><th scope=row>h</th><td> 1.00000000</td><td>-0.7483575</td><td> 0.1664455</td><td>-0.03570358</td></tr>\n",
       "\t<tr><th scope=row>lockout</th><td>-0.74835746</td><td> 1.0000000</td><td>-0.5681847</td><td>-0.39467224</td></tr>\n",
       "\t<tr><th scope=row>strejke</th><td> 0.16644548</td><td>-0.5681847</td><td> 1.0000000</td><td> 0.96596419</td></tr>\n",
       "\t<tr><th scope=row>arbejdsnedlukninger</th><td>-0.03570358</td><td>-0.3946722</td><td> 0.9659642</td><td> 1.00000000</td></tr>\n",
       "</tbody>\n",
       "</table>\n"
      ],
      "text/latex": [
       "A matrix: 4 × 4 of type dbl\n",
       "\\begin{tabular}{r|llll}\n",
       "  & h & lockout & strejke & arbejdsnedlukninger\\\\\n",
       "\\hline\n",
       "\th &  1.00000000 & -0.7483575 &  0.1664455 & -0.03570358\\\\\n",
       "\tlockout & -0.74835746 &  1.0000000 & -0.5681847 & -0.39467224\\\\\n",
       "\tstrejke &  0.16644548 & -0.5681847 &  1.0000000 &  0.96596419\\\\\n",
       "\tarbejdsnedlukninger & -0.03570358 & -0.3946722 &  0.9659642 &  1.00000000\\\\\n",
       "\\end{tabular}\n"
      ],
      "text/markdown": [
       "\n",
       "A matrix: 4 × 4 of type dbl\n",
       "\n",
       "| <!--/--> | h | lockout | strejke | arbejdsnedlukninger |\n",
       "|---|---|---|---|---|\n",
       "| h |  1.00000000 | -0.7483575 |  0.1664455 | -0.03570358 |\n",
       "| lockout | -0.74835746 |  1.0000000 | -0.5681847 | -0.39467224 |\n",
       "| strejke |  0.16644548 | -0.5681847 |  1.0000000 |  0.96596419 |\n",
       "| arbejdsnedlukninger | -0.03570358 | -0.3946722 |  0.9659642 |  1.00000000 |\n",
       "\n"
      ],
      "text/plain": [
       "                    h           lockout    strejke    arbejdsnedlukninger\n",
       "h                    1.00000000 -0.7483575  0.1664455 -0.03570358        \n",
       "lockout             -0.74835746  1.0000000 -0.5681847 -0.39467224        \n",
       "strejke              0.16644548 -0.5681847  1.0000000  0.96596419        \n",
       "arbejdsnedlukninger -0.03570358 -0.3946722  0.9659642  1.00000000        "
      ]
     },
     "metadata": {},
     "output_type": "display_data"
    }
   ],
   "source": [
    "cor(df_after_election[, c(\"h\", \"lockout\", \"strejke\", \"arbejdsnedlukninger\")])"
   ]
  },
  {
   "cell_type": "code",
   "execution_count": 104,
   "id": "4a11a8ef-9366-4605-813d-261148f4e487",
   "metadata": {
    "scrolled": true
   },
   "outputs": [
    {
     "data": {
      "text/html": [
       "<table class=\"dataframe\">\n",
       "<caption>A matrix: 4 × 4 of type dbl</caption>\n",
       "<thead>\n",
       "\t<tr><th></th><th scope=col>s</th><th scope=col>lockout</th><th scope=col>strejke</th><th scope=col>arbejdsnedlukninger</th></tr>\n",
       "</thead>\n",
       "<tbody>\n",
       "\t<tr><th scope=row>s</th><td> 1.00000000</td><td>-0.2033723</td><td> 0.0000000</td><td> 0.06536584</td></tr>\n",
       "\t<tr><th scope=row>lockout</th><td>-0.20337230</td><td> 1.0000000</td><td>-0.5681847</td><td>-0.39467224</td></tr>\n",
       "\t<tr><th scope=row>strejke</th><td> 0.00000000</td><td>-0.5681847</td><td> 1.0000000</td><td> 0.96596419</td></tr>\n",
       "\t<tr><th scope=row>arbejdsnedlukninger</th><td> 0.06536584</td><td>-0.3946722</td><td> 0.9659642</td><td> 1.00000000</td></tr>\n",
       "</tbody>\n",
       "</table>\n"
      ],
      "text/latex": [
       "A matrix: 4 × 4 of type dbl\n",
       "\\begin{tabular}{r|llll}\n",
       "  & s & lockout & strejke & arbejdsnedlukninger\\\\\n",
       "\\hline\n",
       "\ts &  1.00000000 & -0.2033723 &  0.0000000 &  0.06536584\\\\\n",
       "\tlockout & -0.20337230 &  1.0000000 & -0.5681847 & -0.39467224\\\\\n",
       "\tstrejke &  0.00000000 & -0.5681847 &  1.0000000 &  0.96596419\\\\\n",
       "\tarbejdsnedlukninger &  0.06536584 & -0.3946722 &  0.9659642 &  1.00000000\\\\\n",
       "\\end{tabular}\n"
      ],
      "text/markdown": [
       "\n",
       "A matrix: 4 × 4 of type dbl\n",
       "\n",
       "| <!--/--> | s | lockout | strejke | arbejdsnedlukninger |\n",
       "|---|---|---|---|---|\n",
       "| s |  1.00000000 | -0.2033723 |  0.0000000 |  0.06536584 |\n",
       "| lockout | -0.20337230 |  1.0000000 | -0.5681847 | -0.39467224 |\n",
       "| strejke |  0.00000000 | -0.5681847 |  1.0000000 |  0.96596419 |\n",
       "| arbejdsnedlukninger |  0.06536584 | -0.3946722 |  0.9659642 |  1.00000000 |\n",
       "\n"
      ],
      "text/plain": [
       "                    s           lockout    strejke    arbejdsnedlukninger\n",
       "s                    1.00000000 -0.2033723  0.0000000  0.06536584        \n",
       "lockout             -0.20337230  1.0000000 -0.5681847 -0.39467224        \n",
       "strejke              0.00000000 -0.5681847  1.0000000  0.96596419        \n",
       "arbejdsnedlukninger  0.06536584 -0.3946722  0.9659642  1.00000000        "
      ]
     },
     "metadata": {},
     "output_type": "display_data"
    }
   ],
   "source": [
    "cor(df_after_election[, c(\"s\", \"lockout\", \"strejke\", \"arbejdsnedlukninger\")])"
   ]
  },
  {
   "cell_type": "markdown",
   "id": "efff93eb-e891-4664-a83b-e7a49aebeebe",
   "metadata": {},
   "source": [
    "None of the tests show any correlation between work closures of any kind and the amount of mandates that Højre or Socialdemokraterne had as none of the p-values are below 0.05 and none of the r-values are close to either -1 or 1\n",
    "The closest p-value I got was 0,068 which was the general work closures and the party Højre and the closet r-value is 0,78 in the same categori "
   ]
  }
 ],
 "metadata": {
  "kernelspec": {
   "display_name": "R",
   "language": "R",
   "name": "ir"
  },
  "language_info": {
   "codemirror_mode": "r",
   "file_extension": ".r",
   "mimetype": "text/x-r-source",
   "name": "R",
   "pygments_lexer": "r",
   "version": "4.4.1"
  }
 },
 "nbformat": 4,
 "nbformat_minor": 5
}
